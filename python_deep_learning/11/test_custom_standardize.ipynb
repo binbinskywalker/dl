{
 "cells": [
  {
   "cell_type": "code",
   "execution_count": 1,
   "id": "58c88148-db0b-405a-9956-100eae8ed6c9",
   "metadata": {},
   "outputs": [
    {
     "name": "stdout",
     "output_type": "stream",
     "text": [
      "token this\n",
      "self.vocabulary {'': 0, '[UNK]': 1, 'this': 2}\n",
      "token is\n",
      "self.vocabulary {'': 0, '[UNK]': 1, 'this': 2, 'is': 3}\n",
      "token a\n",
      "self.vocabulary {'': 0, '[UNK]': 1, 'this': 2, 'is': 3, 'a': 4}\n",
      "token test\n",
      "self.vocabulary {'': 0, '[UNK]': 1, 'this': 2, 'is': 3, 'a': 4, 'test': 5}\n",
      "token that\n",
      "self.vocabulary {'': 0, '[UNK]': 1, 'this': 2, 'is': 3, 'a': 4, 'test': 5, 'that': 6}\n",
      "token is\n",
      "token not\n",
      "self.vocabulary {'': 0, '[UNK]': 1, 'this': 2, 'is': 3, 'a': 4, 'test': 5, 'that': 6, 'not': 7}\n",
      "token a\n",
      "token test\n",
      "token i\n",
      "self.vocabulary {'': 0, '[UNK]': 1, 'this': 2, 'is': 3, 'a': 4, 'test': 5, 'that': 6, 'not': 7, 'i': 8}\n",
      "token test\n",
      "token this\n",
      "token test\n",
      "self.inverse_vocabulary {'': 0, '[UNK]': 1, 'this': 2, 'is': 3, 'a': 4, 'test': 5, 'that': 6, 'not': 7, 'i': 8}\n"
     ]
    }
   ],
   "source": [
    "import custom_standardize\n",
    "\n",
    "voctorizer = custom_standardize.Vectorizer()\n",
    "dataset = [\"this is a test\",\n",
    "          \"that is not a test\",\n",
    "          \"I, test this test\",]\n",
    "voctorizer.make_vocabulary(dataset)"
   ]
  },
  {
   "cell_type": "code",
   "execution_count": 2,
   "id": "ea10137f-94a9-460d-a818-5d1f471bb156",
   "metadata": {},
   "outputs": [
    {
     "name": "stdout",
     "output_type": "stream",
     "text": [
      "{'': 0, '[UNK]': 1, 'this': 2, 'is': 3, 'a': 4, 'test': 5, 'that': 6, 'not': 7, 'i': 8}\n",
      "{'': 0, '[UNK]': 1, 'this': 2, 'is': 3, 'a': 4, 'test': 5, 'that': 6, 'not': 7, 'i': 8}\n"
     ]
    }
   ],
   "source": [
    "print(voctorizer.vocabulary)\n",
    "print(voctorizer.inverse_vocabulary)"
   ]
  },
  {
   "cell_type": "code",
   "execution_count": 3,
   "id": "f02ad5ff-aa3a-4d72-817e-39e2453c290c",
   "metadata": {},
   "outputs": [
    {
     "name": "stdout",
     "output_type": "stream",
     "text": [
      "[1, 5, 6, 5]\n"
     ]
    }
   ],
   "source": [
    "test_sentence = \"you test that test\"\n",
    "encode_sentence = voctorizer.encode(test_sentence)\n",
    "print(encode_sentence)"
   ]
  },
  {
   "cell_type": "code",
   "execution_count": 4,
   "id": "2d8eb280-3345-4ab7-bd2b-bf853720b666",
   "metadata": {},
   "outputs": [
    {
     "name": "stdout",
     "output_type": "stream",
     "text": [
      "1 \n",
      "[UNK] 1\n",
      "5  [UNK]\n",
      "test 5\n",
      "6  [UNK] test\n",
      "that 6\n",
      "5  [UNK] test that\n",
      "test 5\n",
      "result  [UNK] test that test\n",
      " [UNK] test that test\n"
     ]
    }
   ],
   "source": [
    "decode_sentence = voctorizer.decode(encode_sentence)\n",
    "print(decode_sentence)"
   ]
  }
 ],
 "metadata": {
  "kernelspec": {
   "display_name": "Python 3 (ipykernel)",
   "language": "python",
   "name": "python3"
  },
  "language_info": {
   "codemirror_mode": {
    "name": "ipython",
    "version": 3
   },
   "file_extension": ".py",
   "mimetype": "text/x-python",
   "name": "python",
   "nbconvert_exporter": "python",
   "pygments_lexer": "ipython3",
   "version": "3.10.15"
  }
 },
 "nbformat": 4,
 "nbformat_minor": 5
}
