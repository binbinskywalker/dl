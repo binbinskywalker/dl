{
 "cells": [
  {
   "cell_type": "code",
   "execution_count": 4,
   "id": "0f3fd754-16ee-48f4-aea7-9ec636b758d0",
   "metadata": {},
   "outputs": [],
   "source": [
    "import tensorflow as tf"
   ]
  },
  {
   "cell_type": "code",
   "execution_count": 5,
   "id": "c4171824-effd-4fe9-8790-7fe2c3c7a09c",
   "metadata": {
    "scrolled": true
   },
   "outputs": [
    {
     "name": "stdout",
     "output_type": "stream",
     "text": [
      "tf.Tensor(\n",
      "[[1.]\n",
      " [1.]], shape=(2, 1), dtype=float32)\n"
     ]
    }
   ],
   "source": [
    "x = tf.ones(shape=(2,1))\n",
    "print(x)"
   ]
  },
  {
   "cell_type": "code",
   "execution_count": 7,
   "id": "340c9ea4-26cf-48e4-88ce-81c3f66143f9",
   "metadata": {},
   "outputs": [
    {
     "data": {
      "text/plain": [
       "<tf.Tensor: shape=(2, 1), dtype=float32, numpy=\n",
       "array([[0.],\n",
       "       [0.]], dtype=float32)>"
      ]
     },
     "execution_count": 7,
     "metadata": {},
     "output_type": "execute_result"
    }
   ],
   "source": [
    "tf.zeros(shape=(2,1))"
   ]
  },
  {
   "cell_type": "code",
   "execution_count": 11,
   "id": "29b8b9d0-759c-4846-b3b4-c7fd71334965",
   "metadata": {},
   "outputs": [
    {
     "name": "stdout",
     "output_type": "stream",
     "text": [
      "tf.Tensor(\n",
      "[[-2.0075924 ]\n",
      " [-0.6683617 ]\n",
      " [ 0.39777112]], shape=(3, 1), dtype=float32)\n"
     ]
    }
   ],
   "source": [
    "x=tf.random.normal(shape=(3,1),mean=0., stddev=1.)\n",
    "print(x)"
   ]
  },
  {
   "cell_type": "code",
   "execution_count": 13,
   "id": "f6bf9bfa-60ea-4372-9ba4-c309773b998d",
   "metadata": {},
   "outputs": [],
   "source": [
    "import numpy as np"
   ]
  },
  {
   "cell_type": "code",
   "execution_count": 16,
   "id": "8786ad3d-1030-4791-9f96-974e56747e20",
   "metadata": {},
   "outputs": [
    {
     "name": "stdout",
     "output_type": "stream",
     "text": [
      "[[1. 1.]\n",
      " [1. 1.]]\n"
     ]
    }
   ],
   "source": [
    "x=np.ones(shape=(2,2))\n",
    "print(x)"
   ]
  },
  {
   "cell_type": "code",
   "execution_count": 17,
   "id": "15e547c1-4770-4f9f-a079-415e61e65203",
   "metadata": {},
   "outputs": [
    {
     "name": "stdout",
     "output_type": "stream",
     "text": [
      "<tf.Variable 'Variable:0' shape=(3, 1) dtype=float32, numpy=\n",
      "array([[ 0.5145176],\n",
      "       [-1.6416825],\n",
      "       [ 1.0631835]], dtype=float32)>\n"
     ]
    }
   ],
   "source": [
    "v= tf.Variable(initial_value=tf.random.normal(shape=(3,1)))\n",
    "print(v)"
   ]
  },
  {
   "cell_type": "code",
   "execution_count": 18,
   "id": "19f822da-da0a-443c-b879-5f5b0c3fb35b",
   "metadata": {},
   "outputs": [
    {
     "data": {
      "text/plain": [
       "<tf.Variable 'UnreadVariable' shape=(3, 1) dtype=float32, numpy=\n",
       "array([[1.],\n",
       "       [1.],\n",
       "       [1.]], dtype=float32)>"
      ]
     },
     "execution_count": 18,
     "metadata": {},
     "output_type": "execute_result"
    }
   ],
   "source": [
    "v.assign(tf.ones(shape=(3,1)))"
   ]
  },
  {
   "cell_type": "code",
   "execution_count": 19,
   "id": "a7a90e4f-509a-4712-8b7c-8d701cc16644",
   "metadata": {},
   "outputs": [
    {
     "data": {
      "text/plain": [
       "<tf.Variable 'UnreadVariable' shape=(3, 1) dtype=float32, numpy=\n",
       "array([[3.],\n",
       "       [1.],\n",
       "       [1.]], dtype=float32)>"
      ]
     },
     "execution_count": 19,
     "metadata": {},
     "output_type": "execute_result"
    }
   ],
   "source": [
    "v[0,0].assign(3)"
   ]
  },
  {
   "cell_type": "code",
   "execution_count": 20,
   "id": "a2127345-f89a-4ded-af93-71ea7e8c231f",
   "metadata": {},
   "outputs": [
    {
     "data": {
      "text/plain": [
       "<tf.Variable 'UnreadVariable' shape=(3, 1) dtype=float32, numpy=\n",
       "array([[4.],\n",
       "       [2.],\n",
       "       [2.]], dtype=float32)>"
      ]
     },
     "execution_count": 20,
     "metadata": {},
     "output_type": "execute_result"
    }
   ],
   "source": [
    "v.assign_add(tf.ones((3,1)))"
   ]
  },
  {
   "cell_type": "code",
   "execution_count": 22,
   "id": "f19aa8a3-06f3-4174-8e40-422c39926fae",
   "metadata": {},
   "outputs": [
    {
     "name": "stdout",
     "output_type": "stream",
     "text": [
      "tf.Tensor(\n",
      "[[16.]\n",
      " [ 4.]\n",
      " [ 4.]], shape=(3, 1), dtype=float32)\n"
     ]
    }
   ],
   "source": [
    "b= tf.square(v)\n",
    "print(b)"
   ]
  },
  {
   "cell_type": "code",
   "execution_count": 25,
   "id": "f93e290c-fa74-4628-8d06-02f846d935bb",
   "metadata": {},
   "outputs": [
    {
     "name": "stdout",
     "output_type": "stream",
     "text": [
      "<tf.Variable 'Variable:0' shape=() dtype=int32, numpy=3>\n",
      "WARNING:tensorflow:The dtype of the watched tensor must be floating (e.g. tf.float32), got tf.int32\n",
      "None\n"
     ]
    }
   ],
   "source": [
    "input_var = tf.Variable(initial_value=3)\n",
    "print(input_var)\n",
    "with tf.GradientTape() as tape:\n",
    "    tape.watch(input_var)\n",
    "    result = tf.square(input_var)\n",
    "gradient = tape.gradient(result, input_var)\n",
    "print(gradient)"
   ]
  }
 ],
 "metadata": {
  "kernelspec": {
   "display_name": "Python 3 (ipykernel)",
   "language": "python",
   "name": "python3"
  },
  "language_info": {
   "codemirror_mode": {
    "name": "ipython",
    "version": 3
   },
   "file_extension": ".py",
   "mimetype": "text/x-python",
   "name": "python",
   "nbconvert_exporter": "python",
   "pygments_lexer": "ipython3",
   "version": "3.10.15"
  }
 },
 "nbformat": 4,
 "nbformat_minor": 5
}
