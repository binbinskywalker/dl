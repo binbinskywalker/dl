{
 "cells": [
  {
   "cell_type": "code",
   "execution_count": 22,
   "id": "964c6118-cd4a-4f82-a427-fc06e3b00adb",
   "metadata": {},
   "outputs": [
    {
     "name": "stdout",
     "output_type": "stream",
     "text": [
      "Epoch 1/3\n",
      "\u001b[1m1563/1563\u001b[0m \u001b[32m━━━━━━━━━━━━━━━━━━━━\u001b[0m\u001b[37m\u001b[0m \u001b[1m6s\u001b[0m 4ms/step - accuracy: 0.8670 - loss: 0.4425 - val_accuracy: 0.9568 - val_loss: 0.1555\n",
      "Epoch 2/3\n",
      "\u001b[1m1563/1563\u001b[0m \u001b[32m━━━━━━━━━━━━━━━━━━━━\u001b[0m\u001b[37m\u001b[0m \u001b[1m4s\u001b[0m 3ms/step - accuracy: 0.9524 - loss: 0.1644 - val_accuracy: 0.9679 - val_loss: 0.1150\n",
      "Epoch 3/3\n",
      "\u001b[1m1563/1563\u001b[0m \u001b[32m━━━━━━━━━━━━━━━━━━━━\u001b[0m\u001b[37m\u001b[0m \u001b[1m12s\u001b[0m 8ms/step - accuracy: 0.9631 - loss: 0.1322 - val_accuracy: 0.9718 - val_loss: 0.0988\n",
      "\u001b[1m313/313\u001b[0m \u001b[32m━━━━━━━━━━━━━━━━━━━━\u001b[0m\u001b[37m\u001b[0m \u001b[1m1s\u001b[0m 4ms/step - accuracy: 0.9690 - loss: 0.1105\n",
      "\u001b[1m313/313\u001b[0m \u001b[32m━━━━━━━━━━━━━━━━━━━━\u001b[0m\u001b[37m\u001b[0m \u001b[1m1s\u001b[0m 2ms/step\n"
     ]
    }
   ],
   "source": [
    "import keras\n",
    "from keras import layers\n",
    "from keras.datasets import mnist\n",
    "import matplotlib.pyplot as plt\n",
    " # 创建模型（我们将其包装为一个单独的函数，以便后续复用）\n",
    "def get_mnist_model(): \n",
    "    inputs = keras.Input(shape=(28 * 28,))\n",
    "    features = layers.Dense(512, activation=\"relu\")(inputs)\n",
    "    features = layers.Dropout(0.5)(features)\n",
    "    outputs = layers.Dense(10, activation=\"softmax\")(features)\n",
    "    model = keras.Model(inputs, outputs)\n",
    "    return model\n",
    "\n",
    "(images, labels), (test_images, test_labels) = mnist.load_data()\n",
    "\n",
    "# plt.imshow(test_images,  cmap='viridis')\n",
    "# plt.show()\n",
    "\n",
    "# ←----加载数据，保留一部分数据用于验证\n",
    "images = images.reshape((60000, 28 * 28)).astype(\"float32\") / 255\n",
    "test_images = test_images.reshape((10000, 28 * 28)).astype(\"float32\") / 255\n",
    "train_images, val_images = images[10000:], images[:10000]\n",
    "train_labels, val_labels = labels[10000:], labels[:10000]\n",
    "\n",
    "\n",
    "model = get_mnist_model()\n",
    "  # ←---- (本行及以下2行)编译模型，指定模型的优化器、需要最小化的损失函数和需要监控的指标\n",
    "model.compile(optimizer=\"rmsprop\",\n",
    "              loss=\"sparse_categorical_crossentropy\",\n",
    "              metrics=[\"accuracy\"])\n",
    "\n",
    "tensorboard = keras.callbacks.TensorBoard(log_dir=\"logs_stand_solution\")\n",
    "  # ←---- (本行及以下2行)使用fit()训练模型，可以选择提供验证数据来监控模型在前所未见的数据上的性能\n",
    "model.fit(train_images, train_labels,\n",
    "          epochs=3,\n",
    "          validation_data=(val_images, val_labels),\n",
    "          callbacks=[tensorboard]\n",
    "         )\n",
    "\n",
    "  # ←----使用evaluate()计算模型在新数据上的损失和指标\n",
    "test_metrics = model.evaluate(test_images, test_labels)\n",
    "\n",
    "  # ←----使用predict()计算模型在新数据上的分类概率\n",
    "predictions = model.predict(test_images)"
   ]
  },
  {
   "cell_type": "code",
   "execution_count": 15,
   "id": "219cf729-fd34-42c7-82e5-b2ef0aecea24",
   "metadata": {},
   "outputs": [
    {
     "data": {
      "text/plain": [
       "130"
      ]
     },
     "execution_count": 15,
     "metadata": {},
     "output_type": "execute_result"
    }
   ],
   "source": [
    "predictions.argmax()"
   ]
  },
  {
   "cell_type": "code",
   "execution_count": 20,
   "id": "4baf5a78-8e93-47a5-8bca-2e5722ee0f5a",
   "metadata": {},
   "outputs": [
    {
     "data": {
      "text/plain": [
       "6"
      ]
     },
     "execution_count": 20,
     "metadata": {},
     "output_type": "execute_result"
    }
   ],
   "source": [
    "test_labels[130]"
   ]
  },
  {
   "cell_type": "code",
   "execution_count": null,
   "id": "d096f529-9326-49b5-8dc4-164d70a9dc5f",
   "metadata": {},
   "outputs": [],
   "source": []
  }
 ],
 "metadata": {
  "kernelspec": {
   "display_name": "Python 3 (ipykernel)",
   "language": "python",
   "name": "python3"
  },
  "language_info": {
   "codemirror_mode": {
    "name": "ipython",
    "version": 3
   },
   "file_extension": ".py",
   "mimetype": "text/x-python",
   "name": "python",
   "nbconvert_exporter": "python",
   "pygments_lexer": "ipython3",
   "version": "3.10.15"
  }
 },
 "nbformat": 4,
 "nbformat_minor": 5
}
