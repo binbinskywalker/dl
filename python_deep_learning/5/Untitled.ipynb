{
 "cells": [
  {
   "cell_type": "code",
   "execution_count": null,
   "id": "a7e7da2f-98df-4ee2-b685-a2edeff1a7ba",
   "metadata": {},
   "outputs": [],
   "source": [
    "# 同用流程\n",
    "# 1 定义任务\n",
    "# 2 开发模型\n",
    "# 3 部署模型\n",
    "\n",
    "# 类型              最后一层激活函数   损失函数\n",
    "# 二分             sigmoid             binary_crossentropy\n",
    "# 多分，单标签     softmax             categorical_crossentropy\n",
    "# 多分，多标签     sigmoid             binary_crossentropy\n"
   ]
  }
 ],
 "metadata": {
  "kernelspec": {
   "display_name": "Python 3 (ipykernel)",
   "language": "python",
   "name": "python3"
  },
  "language_info": {
   "codemirror_mode": {
    "name": "ipython",
    "version": 3
   },
   "file_extension": ".py",
   "mimetype": "text/x-python",
   "name": "python",
   "nbconvert_exporter": "python",
   "pygments_lexer": "ipython3",
   "version": "3.10.15"
  }
 },
 "nbformat": 4,
 "nbformat_minor": 5
}
