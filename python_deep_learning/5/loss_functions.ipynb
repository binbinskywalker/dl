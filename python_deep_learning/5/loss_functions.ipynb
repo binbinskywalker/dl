{
 "cells": [
  {
   "cell_type": "code",
   "execution_count": null,
   "id": "a7e7da2f-98df-4ee2-b685-a2edeff1a7ba",
   "metadata": {},
   "outputs": [],
   "source": [
    "# 同用流程\n",
    "# 1 定义任务\n",
    "# 2 开发模型\n",
    "# 3 部署模型\n",
    "\n",
    "# 类型              最后一层激活函数   损失函数\n",
    "# 二分             sigmoid             binary_crossentropy\n",
    "# 多分，单标签     softmax             categorical_crossentropy\n",
    "# 多分，多标签     sigmoid             binary_crossentropy\n",
    "\n",
    "# binary_crossentropy通常与sigmoid激活函数一起使用，可用于二分类，也可用于多分类，在多分类时，每个类别的预测时相互独立的\n",
    "# categorical_crossentropy和sparse_categorical_crossentropy都只会计算每个样本的交叉熵，最后需要将所有样本的交叉熵相加求平均。\n",
    "# 不同的是前者需要将y_true转化为one_hot编码，后者不需要，可以使用整数编码"
   ]
  }
 ],
 "metadata": {
  "kernelspec": {
   "display_name": "Python 3 (ipykernel)",
   "language": "python",
   "name": "python3"
  },
  "language_info": {
   "codemirror_mode": {
    "name": "ipython",
    "version": 3
   },
   "file_extension": ".py",
   "mimetype": "text/x-python",
   "name": "python",
   "nbconvert_exporter": "python",
   "pygments_lexer": "ipython3",
   "version": "3.10.15"
  }
 },
 "nbformat": 4,
 "nbformat_minor": 5
}
