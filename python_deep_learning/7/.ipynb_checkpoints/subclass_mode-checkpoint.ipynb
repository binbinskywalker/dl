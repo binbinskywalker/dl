{
 "cells": [
  {
   "cell_type": "code",
   "execution_count": 17,
   "id": "d1128912-5c86-4e17-bb1a-ef82a9727791",
   "metadata": {},
   "outputs": [],
   "source": [
    "import keras\n",
    "import tensorflow as tf\n",
    "import numpy as np\n",
    "import matplotlib as plt\n",
    "import keras.layers as layers"
   ]
  },
  {
   "cell_type": "code",
   "execution_count": 18,
   "id": "1c93ed5b-cf1a-4391-9458-b573d2700b91",
   "metadata": {},
   "outputs": [],
   "source": [
    "class  CustomerTicketModel(keras.Model):\n",
    "    def __init__(self, num_departments):\n",
    "        super().__init__()\n",
    "        self.concat_layer = layers.Concatenate()\n",
    "        self.mixing_layer = layers.Dense(64, activation=\"relu\")\n",
    "        self.priority_scorer = layers.Dense(1, activation=\"sigmoid\")\n",
    "        self.department_classifier = layers.Dense(num_departments, activation=\"softmax\")\n",
    "\n",
    "    def call(self, inputs):\n",
    "        title = inputs[\"title\"]\n",
    "        text_body = inputs[\"text_body\"]\n",
    "        tags = inputs[\"tags\"]\n",
    "        features = self.concat_layer([title, text_body, tags])\n",
    "        features = self.mixing_layer(features)\n",
    "        priority = self.priority_scorer(features)\n",
    "        department = self.department_classifier(features)\n",
    "        return priority, department\n",
    "        "
   ]
  },
  {
   "cell_type": "code",
   "execution_count": 19,
   "id": "ec30238c-05e2-4b3b-8849-1e330f456b62",
   "metadata": {},
   "outputs": [
    {
     "name": "stdout",
     "output_type": "stream",
     "text": [
      "(1280, 10000)\n",
      "(1280, 10000)\n",
      "(1280, 10)\n"
     ]
    }
   ],
   "source": [
    "\n",
    "num_samples = 1280\n",
    "vocabulary_size = 10000\n",
    "num_tags = 10\n",
    "num_departments = 4\n",
    "\n",
    "title_data = np.random.randint(0, 2, size=(num_samples, vocabulary_size))\n",
    "text_body_data = np.random.randint(0, 2, size=(num_samples, vocabulary_size))\n",
    "tags_data = np.random.randint(0, 2, size=(num_samples, num_tags))\n",
    "print(title_data.shape)\n",
    "print(text_body_data.shape)\n",
    "print(tags_data.shape)\n",
    "\n",
    "\n",
    "priority_data = np.random.random(size=(num_samples, 1))\n",
    "department_data = np.random.randint(0, 2, size=(num_samples, num_departments))\n"
   ]
  },
  {
   "cell_type": "code",
   "execution_count": 20,
   "id": "a82db7d7-a800-4786-80e2-1df9f31554dd",
   "metadata": {},
   "outputs": [],
   "source": [
    "model = CustomerTicketModel(num_departments=4)\n",
    "priority, department = model({\"title\": title_data,\n",
    "                             \"text_body\": text_body_data,\n",
    "                             \"tags\": tags_data})"
   ]
  },
  {
   "cell_type": "code",
   "execution_count": null,
   "id": "a4be3bda-d677-4668-89a1-b60849b30422",
   "metadata": {},
   "outputs": [],
   "source": [
    "model.compile(\n",
    "    optimizer=\"rmsprop\",\n",
    "    loss=[\"mean_squared_error\", \"categorical_crossentropy\"],\n",
    "    metrics=[[\"mean_absolute_error\"], [\"accuracy\"]]\n",
    ")\n",
    "\n",
    "tf_callback = tf.keras.callbacks.TensorBoard(log_dir=\"./logs_sub_model\")\n",
    "\n",
    "model.fit({\n",
    "    \"title\": title_data,\n",
    "    \"tags\": tags_data,\n",
    "    \"text_body\": text_body_data\n",
    "    },\n",
    "    [priority_data, department_data],\n",
    "    epochs=1,\n",
    "    callbacks=[tf_callback]\n",
    "    )"
   ]
  }
 ],
 "metadata": {
  "kernelspec": {
   "display_name": "Python 3 (ipykernel)",
   "language": "python",
   "name": "python3"
  },
  "language_info": {
   "codemirror_mode": {
    "name": "ipython",
    "version": 3
   },
   "file_extension": ".py",
   "mimetype": "text/x-python",
   "name": "python",
   "nbconvert_exporter": "python",
   "pygments_lexer": "ipython3",
   "version": "3.10.15"
  }
 },
 "nbformat": 4,
 "nbformat_minor": 5
}
