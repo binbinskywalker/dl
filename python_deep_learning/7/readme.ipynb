{
 "cells": [
  {
   "cell_type": "code",
   "execution_count": null,
   "id": "f1af78c9-7754-4551-99ba-f7328f8101e5",
   "metadata": {},
   "outputs": [],
   "source": [
    "# 构建Keras模型的3种方法，即序贯模型、函数式API和模型子类化\n",
    "# 使用Keras内置的训练循环和评估循环\n",
    "# 使用Keras回调函数来自定义训练\n",
    "# 使用TensorBoard监控训练指标和评估指标\n",
    "# 从头开始编写训练循环和评估循环\n",
    "\n",
    "# 构建模型的不同方法\n",
    "# 1 序贯模型  sequential model\n",
    "# 2 函数式    functional API\n",
    "# 3 模型子类化 model subclassing\n"
   ]
  }
 ],
 "metadata": {
  "kernelspec": {
   "display_name": "Python 3 (ipykernel)",
   "language": "python",
   "name": "python3"
  },
  "language_info": {
   "codemirror_mode": {
    "name": "ipython",
    "version": 3
   },
   "file_extension": ".py",
   "mimetype": "text/x-python",
   "name": "python",
   "nbconvert_exporter": "python",
   "pygments_lexer": "ipython3",
   "version": "3.10.15"
  }
 },
 "nbformat": 4,
 "nbformat_minor": 5
}
