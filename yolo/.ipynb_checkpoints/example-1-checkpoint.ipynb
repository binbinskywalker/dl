{
 "cells": [
  {
   "cell_type": "code",
   "execution_count": null,
   "id": "7137bd37-a57f-4216-8090-5aa73d6f12a6",
   "metadata": {},
   "outputs": [],
   "source": [
    "from ultralytics import YOLO\n",
    "import cv2\n",
    "from cv2 import getTickCount, getTickFrequency\n",
    "import torch\n",
    "\n",
    "print(torch.__version__)\n",
    "print(torch.cuda.is_available())\n",
    "\n",
    "model = YOLO('yolo11x.pt')\n",
    "# model.predict(source=\"test.mp4\", show = True)\n",
    "\n",
    "cap=cv2.VideoCapture(0)\n",
    "\n",
    "while cap.isOpened():\n",
    "    loop_start = getTickCount()\n",
    "    success, frame = cap.read()\n",
    "    frame = cv2.flip(frame, 1)\n",
    "    # cv2.imshow('img', frame)\n",
    "    \n",
    "    if success:\n",
    "        results = model.predict(source=frame, show = False)\n",
    "    annotated_frame = results[0].plot()\n",
    "\n",
    "    loop_time = getTickCount() - loop_start\n",
    "    total_time = loop_time/(getTickFrequency())\n",
    "    FPS = int(1/total_time)\n",
    "    # 在图像左上角添加FPS文本\n",
    "    fps_text = f\"FPS: {FPS:.2f}\"\n",
    "    font = cv2.FONT_HERSHEY_SIMPLEX\n",
    "    font_scale = 1\n",
    "    font_thickness = 2\n",
    "    text_color = (0, 0, 255)  # 红色\n",
    "    text_position = (10, 30)  # 左上角位置\n",
    "\n",
    "    cv2.putText(annotated_frame, fps_text, text_position, font, font_scale, text_color, font_thickness)\n",
    "    cv2.imshow('img', annotated_frame)\n",
    "    # 通过按下 'q' 键退出循环\n",
    "    if cv2.waitKey(1) & 0xFF == ord('q'):\n",
    "        break\n",
    "\n",
    "cap.release()  # 释放摄像头资源\n",
    "cv2.destroyAllWindows()  # 关闭OpenCV窗口\n"
   ]
  }
 ],
 "metadata": {
  "kernelspec": {
   "display_name": "Python 3 (ipykernel)",
   "language": "python",
   "name": "python3"
  },
  "language_info": {
   "codemirror_mode": {
    "name": "ipython",
    "version": 3
   },
   "file_extension": ".py",
   "mimetype": "text/x-python",
   "name": "python",
   "nbconvert_exporter": "python",
   "pygments_lexer": "ipython3",
   "version": "3.11.10"
  }
 },
 "nbformat": 4,
 "nbformat_minor": 5
}
